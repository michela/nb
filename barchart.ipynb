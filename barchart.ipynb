{
 "metadata": {
  "name": "",
  "signature": "sha256:ed9bad42e7ddf51ce877686beab2b830bd41be732e35923e1b16477eab7d56fc"
 },
 "nbformat": 3,
 "nbformat_minor": 0,
 "worksheets": [
  {
   "cells": [
    {
     "cell_type": "code",
     "collapsed": false,
     "input": [
      "#!/usr/bin/env python\n",
      "# a bar plot with errorbars\n",
      "import numpy as np\n",
      "import matplotlib.pyplot as plt\n",
      "\n",
      "N = 5\n",
      "menMeans = (20, 35, 30, 35, 27)\n",
      "menStd =   (2, 3, 4, 1, 2)\n",
      "\n",
      "ind = np.arange(N)  # the x locations for the groups\n",
      "width = 0.35       # the width of the bars\n",
      "\n",
      "fig, ax = plt.subplots()\n",
      "rects1 = ax.bar(ind, menMeans, width, color='r', yerr=menStd)\n",
      "\n",
      "womenMeans = (25, 32, 34, 20, 25)\n",
      "womenStd =   (3, 5, 2, 3, 3)\n",
      "rects2 = ax.bar(ind+width, womenMeans, width, color='y', yerr=womenStd)\n",
      "\n",
      "# add some text for labels, title and axes ticks\n",
      "ax.set_ylabel('Scores')\n",
      "ax.set_title('Scores by group and gender')\n",
      "ax.set_xticks(ind+width)\n",
      "ax.set_xticklabels( ('G1', 'G2', 'G3', 'G4', 'G5') )\n",
      "\n",
      "ax.legend( (rects1[0], rects2[0]), ('Men', 'Women') )\n",
      "\n",
      "def autolabel(rects):\n",
      "    # attach some text labels\n",
      "    for rect in rects:\n",
      "        height = rect.get_height()\n",
      "        ax.text(rect.get_x()+rect.get_width()/2., 1.05*height, '%d'%int(height),\n",
      "                ha='center', va='bottom')\n",
      "\n",
      "autolabel(rects1)\n",
      "autolabel(rects2)\n",
      "\n",
      "plt.show()\n"
     ],
     "language": "python",
     "metadata": {},
     "outputs": [
      {
       "metadata": {},
       "output_type": "display_data",
       "png": "[encoded data removed]",
       "text": [
        "<matplotlib.figure.Figure at 0x10605a8d0>"
       ]
      }
     ],
     "prompt_number": 3
    },
    {
     "cell_type": "code",
     "collapsed": false,
     "input": [
      "%matplotlib inline"
     ],
     "language": "python",
     "metadata": {},
     "outputs": [],
     "prompt_number": 2
    },
    {
     "cell_type": "code",
     "collapsed": false,
     "input": [
      "print "
     ],
     "language": "python",
     "metadata": {},
     "outputs": []
    },
    {
     "cell_type": "code",
     "collapsed": false,
     "input": [
      "print \"hi\""
     ],
     "language": "python",
     "metadata": {},
     "outputs": [
      {
       "output_type": "stream",
       "stream": "stdout",
       "text": [
        "hi\n"
       ]
      }
     ],
     "prompt_number": 1
    },
    {
     "cell_type": "code",
     "collapsed": false,
     "input": [
      "%pylab inline"
     ],
     "language": "python",
     "metadata": {},
     "outputs": [
      {
       "output_type": "stream",
       "stream": "stdout",
       "text": [
        "Populating the interactive namespace from numpy and matplotlib\n"
       ]
      }
     ],
     "prompt_number": 4
    },
    {
     "cell_type": "code",
     "collapsed": false,
     "input": [],
     "language": "python",
     "metadata": {},
     "outputs": []
    }
   ],
   "metadata": {}
  }
 ]
}