{
 "metadata": {
  "celltoolbar": "Slideshow",
  "name": "",
  "signature": "sha256:6b09e507bed5eee5fa95407ae4c66757a2406340d9144835f982fcf9742da319"
 },
 "nbformat": 3,
 "nbformat_minor": 0,
 "worksheets": [
  {
   "cells": [
    {
     "cell_type": "raw",
     "metadata": {},
     "source": [
      "<style type=\"text/css\">\n",
      ".input_prompt, .input_area, .output_prompt {\n",
      "    display:none !important;\n",
      "}\n",
      "</style>"
     ]
    },
    {
     "cell_type": "markdown",
     "metadata": {
      "slideshow": {
       "slide_type": "slide"
      }
     },
     "source": [
      "ADG Digital Vision workshop\n",
      "============================\n",
      "\n",
      "Michela Ledwidge  \n",
      "<a href=\"http://twitter.com/michela\">@michela</a>  \n",
      "<a href=\"mailto:michela@modprods.com\">michela@modprods.com</a>  \n",
      "\n",
      "Source: http://slideviewer.herokuapp.com/github/michela/nb/blob/master/digitalVisionsAdelaide.ipynb"
     ]
    },
    {
     "cell_type": "markdown",
     "metadata": {
      "slideshow": {
       "slide_type": "slide"
      }
     },
     "source": [
      "Agenda\n",
      "=======\n",
      "\n",
      "* Session 1\n",
      " * Intros\n",
      " * Objectives\n",
      " * Inspiration  \n",
      "* Morning tea \n",
      "* Session 2 \n",
      " * Sample Case study\n",
      "* Lunch\n",
      "* Session 3\n",
      " * Your Projects\n",
      "* Afternoon tea\n",
      "* Session 4\n",
      " * Presentations\n",
      " * Feedback & Discussion"
     ]
    },
    {
     "cell_type": "markdown",
     "metadata": {
      "slideshow": {
       "slide_type": "slide"
      }
     },
     "source": [
      "Aims & Objectives\n",
      "=============\n",
      "\n",
      "* Inspiration / what's working\n",
      "* Structure\n",
      "* Measure / artuculate sucess\n"
     ]
    },
    {
     "cell_type": "code",
     "collapsed": false,
     "input": [
      "# This presentation was developed in iPython Notebook\n",
      "1 + 1 + 1 + 1 + 1"
     ],
     "language": "python",
     "metadata": {
      "slideshow": {
       "slide_type": "skip"
      }
     },
     "outputs": []
    },
    {
     "cell_type": "markdown",
     "metadata": {
      "slideshow": {
       "slide_type": "skip"
      }
     },
     "source": [
      "Social Media\n",
      "\n",
      "\n",
      "\n",
      "Second Screen\n",
      "\n",
      "Case Study: Secrets and Lies \n",
      "http://www.theaustralian.com.au/media/tens-secondscreen-strategy-to-hook-viewers-with-secrets-and-lies/story-e6frg996-1226836221964\n",
      "\n",
      "Immersive video\n",
      "\n",
      "ACO Virtual\n",
      "http://modprods.com/acovirtual\n",
      "\n",
      "Print\n",
      "\n",
      "Cards Against Humanity\n",
      "http://s3.amazonaws.com/cah/CAH_MainGame.pdf\n",
      "\n",
      "Screen Australia\n",
      "http://www.screenaustralia.gov.au/research/statistics/interactive.aspx\n",
      "http://www.screenaustralia.gov.au/news_and_events/2014/mr_140530_approvals.aspx\n",
      "\n",
      "Amazon Studios \n",
      "Multiplatform\n",
      "\n",
      "DAISY CHAIN\n",
      "Interactive app\n",
      "Protein One Pty Ltd\n",
      "Producer/Creative Director Galvin Scott Davis\n",
      "Synopsis Daisy Chain is an interactive touch-screen app for children from the makers of Dandelion. The story follows a little girl named Buttercup Bree who doesn\u2019t fit in, but hopes to ward off bullies through making daisy chains. The project is designed to encourage conversation between adults and children about bullying and help thwart this worldwide issue.\n",
      "\n",
      "DOODLES\n",
      "Multiplatform animated web series\n",
      "Ludo Studio Pty Ltd\n",
      "Producers Nick Boshier, Charlie Aspinwall\n",
      "Executive Producer Dave Jensen\n",
      "Director Daley Pearson\n",
      "Synopsis Doodles is a multiplatform, interactive, animated comedy series that takes real people's drawings via social media and turns them into hilarious animated micro-movies featuring a cast of coloured-in characters surrounded by insanity.\n",
      "\n",
      "FOUR QUARTERS\n",
      "Multiplatform comedy series\n",
      "WBMC\n",
      "Producers Aidan O\u2019Bryan, Janelle Landers\n",
      "Synopsis Set against the guts and glory of AFL, Four Quarters is a multiplatform comedy series influenced in real time by the weekend's footy results. It follows the lives of four friends as they talk life, love and grand final tickets every Monday at their local. There are curses to be shaken, (Eddie) bets to be made, and team infidelity rears its ugly head. Four Quarters is a funny and heartfelt story about football, passion, and making time for your friends (while at the same time hoping their team loses by 10 goals).\n",
      "\n",
      "I LEARN\n",
      "Interactive app\n",
      "Bizzibrains Pty Ltd\n",
      "Producer Nicola Lansdell\n",
      "Creative Director Kat Chadwick\n",
      "Synopsis In I Learn, kids put themselves, a parent and a teacher into the words and pictures of the story. They then help get their character ready and off to school where they're immersed in the challenges and joy of the classroom and schoolyard. An imaginative tale about school and the emotions that come with it, I Learn builds confidence, entertains and educates.\n",
      "\n",
      "ILLUSION 5 SWEEPER SQUAD\n",
      "Multiplatform sci-fi comedy series\n",
      "Hoodlum Active Pty Ltd\n",
      "Producers Leigh McGrath, Nathan Mayfield, Tracey Robertson\n",
      "Writer/Directors Michael Cox, Paul Mayze\n",
      "Synopsis Illusion 5 Sweeper Squad is a 6 x 5-minute sci-fi comedy series that mixes live action, computer animation and visual effects. It follows the trials and tribulations of Illusion 5\u2019s support crew as they deal with ordinary workday problems in the most extraordinary of workplaces \u2026 outer space! Illusion 5 Sweeper Squad is the ultimate underdog story, packed with humour, action and spectacle. \n",
      "\n",
      "KATERING\n",
      "Comedy series\n",
      "Lead Balloon Productions\n",
      "Producer Tamasin Simpkin\n",
      "Writers Kate McLennan, Kate McCartney\n",
      "Director Kate McCartney\n",
      "Synopsis Katering is a 6 x 7-minute online comedy series that follows Kate McLennan (a horrendously smug foodie) as she tries to teach Kate McCartney (a food-intolerant anti-foodie) how to cook a new dish each week. Together, the pair travel to fresh-produce markets and hunt down food trucks, with McLennan channelling every food show TV host she's ever seen, and McCartney staving off boredom with a hipflask of booze.\n",
      "\n",
      "RICKETTS LANE\n",
      "TV series\n",
      "Sticky Pictures Pty Ltd\n",
      "Producer Donna Andrews\n",
      "Writers Sammy McMillan, Heath McIvor\n",
      "Broadcaster ABC2 and iView\n",
      "Synopsis Loyal, eccentric and prone to bursting into song at any given moment, socially inept, incompetent lawyer Sammy J  and still pining divorcee Randy make unlikely best friends. Their cavalier approach to life sees them shunned by their neighbours and despised by their colleagues so all they have is eac other. But when Randy's need to win back his ex-wife clashes with Sammy's push to finally win a case their friendship will be severely tested. Their can't-live-with/can't-live-without each other relationship will be forced to go one way or the other. Based on the award-winning live show by Sammy J and Randy.\n",
      "\n",
      "STORIES I WANT TO TELL YOU IN PERSON\n",
      "TV series\n",
      "Matchbox Productions Pty Ltd\n",
      "Producer Katherine Slattery\n",
      "Executive Producer Debbie Lee\n",
      "Writer Lally Katz\n",
      "Director Erin White\n",
      "Broadcaster ABC and iView\n",
      "Synopsis Based on the stage play of the same name, playwright Lally Katz bares her soul in this part-confessional, part-stand-up routine, part-travel documentary and part-romance story. A disarmingly honest journey through one woman\u2019s life, Stories I Want to Tell You in Person has psychics, cowboys, curses, karaoke, crazy next-door neighbours, Jewish boyfriends, bears, dolphins, magic and love. A surprising and heart-warming story of someone trying to have it all, Stories I Want to Tell You in Person allows us a brief peek inside Lally Katz's magical world.\n",
      "\n",
      "THE WONDROUS LIFE OF DESMONDO RAY\n",
      "Multiplatform animated comedy drama series\n",
      "Sense & Centsability Pty Ltd\n",
      "Producer Leanne Tonkes\n",
      "Executive Producer Andrew Wareham\n",
      "Writer/Director Steve Baker\n",
      "Synopsis From award-winning filmmaker Steve Baker, the series follows the wondrous adventures of Desmondo Ray, a peculiar man-child who seeks true love in a world he has difficulty fitting into. Based on the short film The Video Dating Tape of Desmondo Ray which was official selection for SxSW 2014 and is an opening night film at St Kilda Film Festival 2014.\n",
      "\n",
      " \n",
      "- See more at: http://www.screenaustralia.gov.au/news_and_events/2014/mr_140530_approvals.aspx#sthash.6E0JZXmf.dpuf\n",
      "\n",
      "\n",
      "No one knows anything\n",
      "\n",
      "Who Cares - NBC President Herb Schlosser\n",
      "\n",
      "http://edition.cnn.com/2013/05/03/tech/mobile/google-glass-dorky/\n",
      "\n",
      "Christopher Nolan / Inception / The Dark Knight Rises\n",
      "\n",
      "http://nofilmschool.com/2014/08/christopher-nolan-low-budget-diy-filmmaking-vice-criterion-following\n"
     ]
    },
    {
     "cell_type": "markdown",
     "metadata": {
      "slideshow": {
       "slide_type": "slide"
      }
     },
     "source": [
      "Terminology\n",
      "============"
     ]
    },
    {
     "cell_type": "markdown",
     "metadata": {
      "slideshow": {
       "slide_type": "fragment"
      }
     },
     "source": [
      "* Multimedia"
     ]
    },
    {
     "cell_type": "markdown",
     "metadata": {
      "slideshow": {
       "slide_type": "fragment"
      }
     },
     "source": [
      "* Multiplatform"
     ]
    },
    {
     "cell_type": "markdown",
     "metadata": {
      "slideshow": {
       "slide_type": "fragment"
      }
     },
     "source": [
      "* Interactive Storytelling"
     ]
    },
    {
     "cell_type": "markdown",
     "metadata": {
      "slideshow": {
       "slide_type": "fragment"
      }
     },
     "source": [
      "* Extensions"
     ]
    },
    {
     "cell_type": "markdown",
     "metadata": {
      "slideshow": {
       "slide_type": "fragment"
      }
     },
     "source": [
      "* Crossmedia"
     ]
    },
    {
     "cell_type": "markdown",
     "metadata": {
      "slideshow": {
       "slide_type": "fragment"
      }
     },
     "source": [
      "* Transmedia"
     ]
    },
    {
     "cell_type": "markdown",
     "metadata": {
      "slideshow": {
       "slide_type": "fragment"
      }
     },
     "source": [
      "* Immersion"
     ]
    },
    {
     "cell_type": "markdown",
     "metadata": {
      "slideshow": {
       "slide_type": "fragment"
      }
     },
     "source": [
      "* Experience Design"
     ]
    },
    {
     "cell_type": "markdown",
     "metadata": {
      "slideshow": {
       "slide_type": "slide"
      }
     },
     "source": [
      "Experience\n",
      "============\n",
      "\n",
      "* Social\n",
      "* Event Cinema\n",
      "* Second Screen TV\n",
      "* Live Installation\n",
      "* Participatory\n",
      "* Remixable\n",
      "* Game\n",
      "* Augmented Reality\n",
      "* Virtual Reality\n",
      "\n",
      "\n",
      "\n"
     ]
    },
    {
     "cell_type": "markdown",
     "metadata": {
      "slideshow": {
       "slide_type": "slide"
      }
     },
     "source": [
      "Formats\n",
      "=========\n",
      "* Cinema\n",
      "* TV series\n",
      "* TV one-off programme\n",
      "* TVC\n",
      "* Game console title\n",
      "* Windows/Mac/Linux app\n",
      "* Phone app\n",
      "* Tablet app\n",
      "* Dome theatre title\n",
      "* HMD title\n",
      "* Display advertising\n",
      "* eBook\n",
      "* Wearable\n"
     ]
    },
    {
     "cell_type": "markdown",
     "metadata": {
      "slideshow": {
       "slide_type": "slide"
      }
     },
     "source": [
      "Event Cinema\n",
      "=============\n",
      "\n",
      "Maze Runner\n",
      "------------\n",
      "\n",
      "\n",
      "\n",
      "<a href=\"http://www.slashfilm.com/barco-escape-review-maze-runner/\">Barco Escape</a>\n"
     ]
    },
    {
     "cell_type": "code",
     "collapsed": false,
     "input": [
      "from IPython.display import YouTubeVideo\n",
      "# a talk about IPython at Sage Days at U. Washington, Seattle.\n",
      "# Video credit: William Stein.\n",
      "YouTubeVideo('Hqbn-7kJGj0')"
     ],
     "language": "python",
     "metadata": {
      "slideshow": {
       "slide_type": "fragment"
      }
     },
     "outputs": [
      {
       "html": [
        "\n",
        "        <iframe\n",
        "            width=\"400\"\n",
        "            height=300\"\n",
        "            src=\"https://www.youtube.com/embed/Hqbn-7kJGj0\"\n",
        "            frameborder=\"0\"\n",
        "            allowfullscreen\n",
        "        ></iframe>\n",
        "        "
       ],
       "metadata": {},
       "output_type": "pyout",
       "prompt_number": 2,
       "text": [
        "<IPython.lib.display.YouTubeVideo at 0x1052b8c10>"
       ]
      }
     ],
     "prompt_number": 2
    },
    {
     "cell_type": "markdown",
     "metadata": {
      "slideshow": {
       "slide_type": "slide"
      }
     },
     "source": [
      "Film Extension\n",
      "===============\n",
      "\n",
      "These Final Hours\n",
      "------------------\n",
      "\n",
      "http://thesefinalhours.com.au/experience/"
     ]
    },
    {
     "cell_type": "code",
     "collapsed": false,
     "input": [
      "from IPython.display import YouTubeVideo\n",
      "# a talk about IPython at Sage Days at U. Washington, Seattle.\n",
      "# Video credit: William Stein.\n",
      "YouTubeVideo('SJbDvX9UhfA')"
     ],
     "language": "python",
     "metadata": {
      "slideshow": {
       "slide_type": "fragment"
      }
     },
     "outputs": [
      {
       "html": [
        "\n",
        "        <iframe\n",
        "            width=\"400\"\n",
        "            height=300\"\n",
        "            src=\"https://www.youtube.com/embed/SJbDvX9UhfA\"\n",
        "            frameborder=\"0\"\n",
        "            allowfullscreen\n",
        "        ></iframe>\n",
        "        "
       ],
       "metadata": {},
       "output_type": "pyout",
       "prompt_number": 3,
       "text": [
        "<IPython.lib.display.YouTubeVideo at 0x1052ea3d0>"
       ]
      }
     ],
     "prompt_number": 3
    },
    {
     "cell_type": "markdown",
     "metadata": {
      "slideshow": {
       "slide_type": "slide"
      }
     },
     "source": [
      "TV Extension\n",
      "==============================\n",
      "\n",
      "Sherlock Holmes: The Network\n",
      "------------------------------\n",
      "\n",
      "Puzzles\n",
      "\n",
      "http://www.sherlockthenetwork.com/\n",
      "\n",
      "Presentation - Successful Business Models in Digital  \n",
      "https://vimeo.com/114539060"
     ]
    },
    {
     "cell_type": "code",
     "collapsed": false,
     "input": [
      "from IPython.display import YouTubeVideo\n",
      "# a talk about IPython at Sage Days at U. Washington, Seattle.\n",
      "# Video credit: William Stein.\n",
      "YouTubeVideo('xoX1RSpFQTI')"
     ],
     "language": "python",
     "metadata": {
      "slideshow": {
       "slide_type": "fragment"
      }
     },
     "outputs": [
      {
       "html": [
        "\n",
        "        <iframe\n",
        "            width=\"400\"\n",
        "            height=300\"\n",
        "            src=\"https://www.youtube.com/embed/xoX1RSpFQTI\"\n",
        "            frameborder=\"0\"\n",
        "            allowfullscreen\n",
        "        ></iframe>\n",
        "        "
       ],
       "metadata": {},
       "output_type": "pyout",
       "prompt_number": 4,
       "text": [
        "<IPython.lib.display.YouTubeVideo at 0x1052ea310>"
       ]
      }
     ],
     "prompt_number": 4
    },
    {
     "cell_type": "markdown",
     "metadata": {
      "slideshow": {
       "slide_type": "slide"
      }
     },
     "source": [
      "\n",
      "Second Screen\n",
      "==================\n",
      "\n",
      "Secrets and Lies\n",
      "---------------------\n",
      "\n",
      "Multiplatform drama\n",
      "\n",
      "\"Watch play share\"\n",
      "\n",
      "http://www.theaustralian.com.au/media/tens-secondscreen-strategy-to-hook-viewers-with-secrets-and-lies/story-e6frg996-1226836221964\n",
      "\n",
      "Technology:\n",
      " * Zeebox\n",
      " * Facebook\n",
      " * Twitter\n",
      "\n",
      "Related\n",
      " * Fat Cow Motel \n",
      " * Spooks Interactive\n",
      " * Lost ARG\n",
      " "
     ]
    },
    {
     "cell_type": "code",
     "collapsed": false,
     "input": [
      "from IPython.display import YouTubeVideo\n",
      "YouTubeVideo('iHiU7Yz7xJo')"
     ],
     "language": "python",
     "metadata": {
      "slideshow": {
       "slide_type": "fragment"
      }
     },
     "outputs": [
      {
       "html": [
        "\n",
        "        <iframe\n",
        "            width=\"400\"\n",
        "            height=300\"\n",
        "            src=\"https://www.youtube.com/embed/iHiU7Yz7xJo\"\n",
        "            frameborder=\"0\"\n",
        "            allowfullscreen\n",
        "        ></iframe>\n",
        "        "
       ],
       "metadata": {},
       "output_type": "pyout",
       "prompt_number": 14,
       "text": [
        "<IPython.lib.display.YouTubeVideo at 0x1052eaf90>"
       ]
      }
     ],
     "prompt_number": 14
    },
    {
     "cell_type": "markdown",
     "metadata": {
      "slideshow": {
       "slide_type": "slide"
      }
     },
     "source": [
      "Adventure Game\n",
      "================\n",
      "\n",
      "Nowhere Boys: The 5th Boy\n",
      "---------------------------\n",
      "    \n",
      "http://www.abc.net.au/abc3/games/game.html?id=3886153\n",
      "\n",
      "\n"
     ]
    },
    {
     "cell_type": "code",
     "collapsed": false,
     "input": [
      "from IPython.display import YouTubeVideo\n",
      "YouTubeVideo('Jw-U_jzTdTg')"
     ],
     "language": "python",
     "metadata": {
      "slideshow": {
       "slide_type": "fragment"
      }
     },
     "outputs": [
      {
       "html": [
        "\n",
        "        <iframe\n",
        "            width=\"400\"\n",
        "            height=300\"\n",
        "            src=\"https://www.youtube.com/embed/Jw-U_jzTdTg\"\n",
        "            frameborder=\"0\"\n",
        "            allowfullscreen\n",
        "        ></iframe>\n",
        "        "
       ],
       "metadata": {},
       "output_type": "pyout",
       "prompt_number": 22,
       "text": [
        "<IPython.lib.display.YouTubeVideo at 0x105781050>"
       ]
      }
     ],
     "prompt_number": 22
    },
    {
     "cell_type": "markdown",
     "metadata": {
      "slideshow": {
       "slide_type": "slide"
      }
     },
     "source": [
      "Augmented Soundtrack\n",
      "======================\n",
      "\n",
      "* <a href=\"http://inceptiontheapp.com/\">Inception The App</a>\n",
      "* <a href=\"http://darkknightrises.rjdj.me/\">The Dark Knight Rises Z+</a>\n",
      "* Memento DVD\n",
      "\n",
      "http://nofilmschool.com/2014/08/christopher-nolan-low-budget-diy-filmmaking-vice-criterion-following"
     ]
    },
    {
     "cell_type": "code",
     "collapsed": false,
     "input": [
      "from IPython.display import YouTubeVideo\n",
      "YouTubeVideo('wL17lCxUHxo')"
     ],
     "language": "python",
     "metadata": {
      "slideshow": {
       "slide_type": "fragment"
      }
     },
     "outputs": [
      {
       "html": [
        "\n",
        "        <iframe\n",
        "            width=\"400\"\n",
        "            height=300\"\n",
        "            src=\"https://www.youtube.com/embed/wL17lCxUHxo\"\n",
        "            frameborder=\"0\"\n",
        "            allowfullscreen\n",
        "        ></iframe>\n",
        "        "
       ],
       "metadata": {},
       "output_type": "pyout",
       "prompt_number": 26,
       "text": [
        "<IPython.lib.display.YouTubeVideo at 0x105781450>"
       ]
      }
     ],
     "prompt_number": 26
    },
    {
     "cell_type": "markdown",
     "metadata": {
      "slideshow": {
       "slide_type": "slide"
      }
     },
     "source": [
      "Installation\n",
      "============\n",
      "\n",
      "ACO Virtual\n",
      "------------\n",
      "\n",
      "Audience Engagement & Outreach\n",
      "\n",
      "http://modprods.com/acovirtual\n"
     ]
    },
    {
     "cell_type": "code",
     "collapsed": false,
     "input": [
      "from IPython.display import VimeoVideo\n",
      "# a talk about IPython at Sage Days at U. Washington, Seattle.\n",
      "# Video credit: William Stein.\n",
      "VimeoVideo('78607261')"
     ],
     "language": "python",
     "metadata": {
      "slideshow": {
       "slide_type": "fragment"
      }
     },
     "outputs": [
      {
       "html": [
        "\n",
        "        <iframe\n",
        "            width=\"400\"\n",
        "            height=300\"\n",
        "            src=\"https://player.vimeo.com/video/78607261\"\n",
        "            frameborder=\"0\"\n",
        "            allowfullscreen\n",
        "        ></iframe>\n",
        "        "
       ],
       "metadata": {},
       "output_type": "pyout",
       "prompt_number": 17,
       "text": [
        "<IPython.lib.display.VimeoVideo at 0x1052ea510>"
       ]
      }
     ],
     "prompt_number": 17
    },
    {
     "cell_type": "markdown",
     "metadata": {
      "slideshow": {
       "slide_type": "slide"
      }
     },
     "source": [
      "Genre\n",
      "======\n",
      "\n",
      "* Drama\n",
      "* Comedy\n",
      "* Factual\n",
      "* Horror\n",
      "* Sci-fi\n",
      "* Action\n",
      "* Thriller\n",
      "* Soap\n",
      "* Reality TV\n",
      "* Crime"
     ]
    },
    {
     "cell_type": "markdown",
     "metadata": {
      "slideshow": {
       "slide_type": "slide"
      }
     },
     "source": [
      "Resources\n",
      "==========\n",
      "\n",
      "* Google Apps\n",
      "* Scrivener\n",
      "* Amazon Storyteller\n",
      "* SketchUp\n",
      "* Celtix\n",
      "* Medium"
     ]
    },
    {
     "cell_type": "markdown",
     "metadata": {
      "slideshow": {
       "slide_type": "slide"
      }
     },
     "source": [
      "Digital Networks\n",
      "=================\n",
      "\n",
      "* XMediaLab\n",
      "* dorkbot\n",
      "* Story Code\n",
      "* AIMIA\n",
      "* SPA\n",
      "* Tribeca Film Institute\n",
      "* Sundance Institute\n",
      "* Film Board of Canada\n",
      "* MIPTV\n",
      "* SXSW\n",
      "* Power To the Pixel\n",
      "* ADG"
     ]
    },
    {
     "cell_type": "markdown",
     "metadata": {
      "slideshow": {
       "slide_type": "slide"
      }
     },
     "source": [
      "Screen Australia\n",
      "------------------\n",
      "* http://www.screenaustralia.gov.au/research/statistics/interactive.aspx\n",
      "* http://www.screenaustralia.gov.au/news_and_events/2014/mr_140530_approvals.aspx\n",
      "* http://www.screenaustralia.gov.au/marketing/reports.aspx\n",
      "* http://www.screenaustralia.gov.au/filmmaking/digital_resources.aspx"
     ]
    },
    {
     "cell_type": "markdown",
     "metadata": {
      "slideshow": {
       "slide_type": "slide"
      }
     },
     "source": [
      "Watch out for\n",
      "==============\n",
      "\n",
      "* Amazon\n",
      "* Google\n",
      "* Yahoo!\n",
      "* Netflix"
     ]
    },
    {
     "cell_type": "markdown",
     "metadata": {
      "slideshow": {
       "slide_type": "slide"
      }
     },
     "source": [
      "Local producers\n",
      "------------------\n",
      "\n",
      "* Hoodlum\n",
      "* Project Factory\n",
      "* Ludo Studios\n",
      "* Soap Creative\n",
      "* Mod Productions"
     ]
    },
    {
     "cell_type": "markdown",
     "metadata": {
      "slideshow": {
       "slide_type": "slide"
      }
     },
     "source": [
      "Experimental\n",
      "=============\n",
      "* Live Coding\n",
      "* Participatory Theatre\n",
      "* Cinema Games\n",
      "* Maker Movement\n",
      "* Media Art"
     ]
    },
    {
     "cell_type": "markdown",
     "metadata": {
      "slideshow": {
       "slide_type": "slide"
      }
     },
     "source": [
      "Further Reading\n",
      "=================\n",
      "\n",
      "Medium\n",
      "--------\n",
      "\n",
      "https://medium.com/a-brief-history-of-attention  \n",
      "https://medium.com/purposeful-storytelling-play  \n",
      "\n",
      "https://medium.com/@rianvdm/how-to-avoid-building-products-that-fail-5ce499fff3a  \n",
      "http://www.hiscox.co.uk/business-blog/features/school-hard-knocks-skill-knowing-walk-away-business/  "
     ]
    },
    {
     "cell_type": "code",
     "collapsed": false,
     "input": [],
     "language": "python",
     "metadata": {},
     "outputs": []
    },
    {
     "cell_type": "markdown",
     "metadata": {
      "slideshow": {
       "slide_type": "slide"
      }
     },
     "source": [
      "Thanks\n",
      "=======\n",
      "\n",
      "Workshop notes  \n",
      "https://github.com/michela/nb/blob/master/digitalVisionsAdelaide.ipynb  \n",
      "http://nbviewer.ipython.org/github/michela/nb/blob/master/digitalVisionsAdelaide.ipynb  \n",
      "http://slideviewer.herokuapp.com/github/michela/nb/blob/master/digitalVisionsAdelaide.ipynb  \n",
      "\n",
      "@michela  \n",
      "http://modprods.com\n",
      "\n",
      "adg-digital mailing list  \n",
      "http://is.gd/adgdigital"
     ]
    },
    {
     "cell_type": "markdown",
     "metadata": {
      "slideshow": {
       "slide_type": "slide"
      }
     },
     "source": [
      "Leg stretch!\n"
     ]
    },
    {
     "cell_type": "markdown",
     "metadata": {
      "slideshow": {
       "slide_type": "slide"
      }
     },
     "source": [
      "Scenario: Digital (Re)Visioning \n",
      "=============================\n",
      "\n",
      " * An collaborative exercise in concept development for a multiplatform entertainment title\n",
      " * Research, reverse engineer and re-package ACO Virtual using whatever resources at your disposal  \n",
      " http://modprods.com/acovirtual\n",
      " * A major studio on the other side of the world will consider your creative pitch tomorrow\n",
      "\n",
      "Deliverables:   \n",
      " * Elevator Pitch - 1min \n",
      " * Synopsis - 1 pager\n",
      " * Scoping - 1 week\n",
      "  * High Level Design\n",
      "  * Feasibility \n",
      " \n",
      " \n",
      "\n",
      "\n"
     ]
    },
    {
     "cell_type": "markdown",
     "metadata": {
      "slideshow": {
       "slide_type": "notes"
      }
     },
     "source": [
      "Concept Development\n",
      "=====================\n",
      "\n",
      "* References\n",
      "* Elevator Pitch\n",
      "* One Pager\n",
      "* High Level Design\n",
      " * Target Audience\n",
      " * Verbs\n",
      " * Hook\n",
      " * User Personas\n",
      " * Key User Journeys\n",
      " * Components\n",
      " * SWOT analysis\n",
      "  * Strengths\n",
      "  * Weaknesses\n",
      "  * Opportunities\n",
      "  * Threats\n",
      " * Budget Ballpark\n",
      " * Feasibility\n",
      " * References\n",
      "* Detailed Design considerations\n"
     ]
    },
    {
     "cell_type": "code",
     "collapsed": false,
     "input": [
      "license = \"\"\"\n",
      "<a rel=\"license\" href=\"http://creativecommons.org/licenses/by/4.0/\">\n",
      "<img alt=\"Creative Commons License\" style=\"border-width:0\" src=\"https://i.creativecommons.org/l/by/4.0/88x31.png\" />\n",
      "</a><br /><span xmlns:dct=\"http://purl.org/dc/terms/\" property=\"dct:title\">ADG Digital Vision Workshop</span> by \n",
      "<a xmlns:cc=\"http://creativecommons.org/ns#\" href=\"http://michelaledwidge.com\" property=\"cc:attributionName\" rel=\"cc:attributionURL\">Michela Ledwidge</a>\n",
      "is licensed under a <a rel=\"license\" href=\"http://creativecommons.org/licenses/by/4.0/\">Creative Commons Attribution 4.0 International License</a>.\"\"\"\n",
      "from IPython.display import HTML\n",
      "h = HTML(license); h"
     ],
     "language": "python",
     "metadata": {
      "slideshow": {
       "slide_type": "slide"
      }
     },
     "outputs": [
      {
       "html": [
        "\n",
        "<a rel=\"license\" href=\"http://creativecommons.org/licenses/by/4.0/\"><img alt=\"Creative Commons License\" style=\"border-width:0\" src=\"https://i.creativecommons.org/l/by/4.0/88x31.png\" /></a><br /><span xmlns:dct=\"http://purl.org/dc/terms/\" property=\"dct:title\">ADG Digital Vision Workshop</span> by <a xmlns:cc=\"http://creativecommons.org/ns#\" href=\"http://michelaledwidge.com\" property=\"cc:attributionName\" rel=\"cc:attributionURL\">Michela Ledwidge</a> is licensed under a <a rel=\"license\" href=\"http://creativecommons.org/licenses/by/4.0/\">Creative Commons Attribution 4.0 International License</a>."
       ],
       "metadata": {},
       "output_type": "pyout",
       "prompt_number": 35,
       "text": [
        "<IPython.core.display.HTML at 0x1057e1090>"
       ]
      }
     ],
     "prompt_number": 35
    }
   ],
   "metadata": {}
  }
 ]
}