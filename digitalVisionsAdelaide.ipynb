{
 "metadata": {
  "celltoolbar": "Slideshow",
  "name": "",
  "signature": "sha256:0e0d16a5d48625a8992e02e8c85dc65391e262bed8d641b57ebbfb7672e99f05"
 },
 "nbformat": 3,
 "nbformat_minor": 0,
 "worksheets": [
  {
   "cells": [
    {
     "cell_type": "raw",
     "metadata": {},
     "source": [
      "<style type=\"text/css\">\n",
      ".input_prompt, .input_area, .output_prompt {\n",
      "    display:none !important;\n",
      "}\n",
      "</style>"
     ]
    },
    {
     "cell_type": "markdown",
     "metadata": {
      "slideshow": {
       "slide_type": "slide"
      }
     },
     "source": [
      "ADG Digital Vision workshop\n",
      "============================\n",
      "\n",
      "Michela Ledwidge  \n",
      "<a href=\"http://twitter.com/michela\">@michela</a>  \n",
      "<a href=\"mailto:michela@modprods.com\">michela@modprods.com</a>  "
     ]
    },
    {
     "cell_type": "markdown",
     "metadata": {
      "slideshow": {
       "slide_type": "slide"
      }
     },
     "source": [
      "Agenda\n",
      "=======\n",
      "\n",
      "* Session 1\n",
      " * Intros\n",
      " * Expectations\n",
      " * Inspiration  \n",
      "* Morning tea \n",
      "* Session 2 \n",
      " * Case study\n",
      "* Lunch\n",
      "* Session 3\n",
      " * Projects\n",
      "* Afternoon tea\n",
      "* Session 4\n",
      " * Presentations\n",
      " * Feedback & Discussion"
     ]
    },
    {
     "cell_type": "markdown",
     "metadata": {
      "slideshow": {
       "slide_type": "slide"
      }
     },
     "source": [
      "Expectations\n",
      "=============\n",
      "\n",
      "* ?\n",
      "* ?\n",
      "* ?\n",
      "\n"
     ]
    },
    {
     "cell_type": "markdown",
     "metadata": {
      "slideshow": {
       "slide_type": "skip"
      }
     },
     "source": [
      "\n",
      "\n",
      "\n",
      "Social Media\n",
      "\n",
      "Case Study: 7 Days Later\n",
      "http://www.abc.net.au/tv/programs/7dayslater/\n",
      "\n",
      "Second Screen\n",
      "\n",
      "Case Study: Secrets and Lies \n",
      "http://www.theaustralian.com.au/media/tens-secondscreen-strategy-to-hook-viewers-with-secrets-and-lies/story-e6frg996-1226836221964\n",
      "\n",
      "Immersive video\n",
      "\n",
      "ACO Virtual\n",
      "http://modprods.com/acovirtual\n",
      "\n",
      "Adventure Game\n",
      "\n",
      "Nowhere Boys: The 5th Boy\n",
      "http://www.abc.net.au/abc3/games/game.html?id=3886153\n",
      "\n",
      "\n",
      "\n",
      "Print\n",
      "\n",
      "Cards Against Humanity\n",
      "http://s3.amazonaws.com/cah/CAH_MainGame.pdf\n",
      "\n",
      "\n",
      "\n",
      "Screen Australia\n",
      "http://www.screenaustralia.gov.au/research/statistics/interactive.aspx\n",
      "http://www.screenaustralia.gov.au/news_and_events/2014/mr_140530_approvals.aspx\n",
      "\n",
      "\n",
      "Amazon Studios \n",
      "Multiplatform\n",
      "\n",
      "DAISY CHAIN\n",
      "Interactive app\n",
      "Protein One Pty Ltd\n",
      "Producer/Creative Director Galvin Scott Davis\n",
      "Synopsis Daisy Chain is an interactive touch-screen app for children from the makers of Dandelion. The story follows a little girl named Buttercup Bree who doesn\u2019t fit in, but hopes to ward off bullies through making daisy chains. The project is designed to encourage conversation between adults and children about bullying and help thwart this worldwide issue.\n",
      "\n",
      "DOODLES\n",
      "Multiplatform animated web series\n",
      "Ludo Studio Pty Ltd\n",
      "Producers Nick Boshier, Charlie Aspinwall\n",
      "Executive Producer Dave Jensen\n",
      "Director Daley Pearson\n",
      "Synopsis Doodles is a multiplatform, interactive, animated comedy series that takes real people's drawings via social media and turns them into hilarious animated micro-movies featuring a cast of coloured-in characters surrounded by insanity.\n",
      "\n",
      "FOUR QUARTERS\n",
      "Multiplatform comedy series\n",
      "WBMC\n",
      "Producers Aidan O\u2019Bryan, Janelle Landers\n",
      "Synopsis Set against the guts and glory of AFL, Four Quarters is a multiplatform comedy series influenced in real time by the weekend's footy results. It follows the lives of four friends as they talk life, love and grand final tickets every Monday at their local. There are curses to be shaken, (Eddie) bets to be made, and team infidelity rears its ugly head. Four Quarters is a funny and heartfelt story about football, passion, and making time for your friends (while at the same time hoping their team loses by 10 goals).\n",
      "\n",
      "I LEARN\n",
      "Interactive app\n",
      "Bizzibrains Pty Ltd\n",
      "Producer Nicola Lansdell\n",
      "Creative Director Kat Chadwick\n",
      "Synopsis In I Learn, kids put themselves, a parent and a teacher into the words and pictures of the story. They then help get their character ready and off to school where they're immersed in the challenges and joy of the classroom and schoolyard. An imaginative tale about school and the emotions that come with it, I Learn builds confidence, entertains and educates.\n",
      "\n",
      "ILLUSION 5 SWEEPER SQUAD\n",
      "Multiplatform sci-fi comedy series\n",
      "Hoodlum Active Pty Ltd\n",
      "Producers Leigh McGrath, Nathan Mayfield, Tracey Robertson\n",
      "Writer/Directors Michael Cox, Paul Mayze\n",
      "Synopsis Illusion 5 Sweeper Squad is a 6 x 5-minute sci-fi comedy series that mixes live action, computer animation and visual effects. It follows the trials and tribulations of Illusion 5\u2019s support crew as they deal with ordinary workday problems in the most extraordinary of workplaces \u2026 outer space! Illusion 5 Sweeper Squad is the ultimate underdog story, packed with humour, action and spectacle. \n",
      "\n",
      "KATERING\n",
      "Comedy series\n",
      "Lead Balloon Productions\n",
      "Producer Tamasin Simpkin\n",
      "Writers Kate McLennan, Kate McCartney\n",
      "Director Kate McCartney\n",
      "Synopsis Katering is a 6 x 7-minute online comedy series that follows Kate McLennan (a horrendously smug foodie) as she tries to teach Kate McCartney (a food-intolerant anti-foodie) how to cook a new dish each week. Together, the pair travel to fresh-produce markets and hunt down food trucks, with McLennan channelling every food show TV host she's ever seen, and McCartney staving off boredom with a hipflask of booze.\n",
      "\n",
      "RICKETTS LANE\n",
      "TV series\n",
      "Sticky Pictures Pty Ltd\n",
      "Producer Donna Andrews\n",
      "Writers Sammy McMillan, Heath McIvor\n",
      "Broadcaster ABC2 and iView\n",
      "Synopsis Loyal, eccentric and prone to bursting into song at any given moment, socially inept, incompetent lawyer Sammy J  and still pining divorcee Randy make unlikely best friends. Their cavalier approach to life sees them shunned by their neighbours and despised by their colleagues so all they have is eac other. But when Randy's need to win back his ex-wife clashes with Sammy's push to finally win a case their friendship will be severely tested. Their can't-live-with/can't-live-without each other relationship will be forced to go one way or the other. Based on the award-winning live show by Sammy J and Randy.\n",
      "\n",
      "STORIES I WANT TO TELL YOU IN PERSON\n",
      "TV series\n",
      "Matchbox Productions Pty Ltd\n",
      "Producer Katherine Slattery\n",
      "Executive Producer Debbie Lee\n",
      "Writer Lally Katz\n",
      "Director Erin White\n",
      "Broadcaster ABC and iView\n",
      "Synopsis Based on the stage play of the same name, playwright Lally Katz bares her soul in this part-confessional, part-stand-up routine, part-travel documentary and part-romance story. A disarmingly honest journey through one woman\u2019s life, Stories I Want to Tell You in Person has psychics, cowboys, curses, karaoke, crazy next-door neighbours, Jewish boyfriends, bears, dolphins, magic and love. A surprising and heart-warming story of someone trying to have it all, Stories I Want to Tell You in Person allows us a brief peek inside Lally Katz's magical world.\n",
      "\n",
      "THE WONDROUS LIFE OF DESMONDO RAY\n",
      "Multiplatform animated comedy drama series\n",
      "Sense & Centsability Pty Ltd\n",
      "Producer Leanne Tonkes\n",
      "Executive Producer Andrew Wareham\n",
      "Writer/Director Steve Baker\n",
      "Synopsis From award-winning filmmaker Steve Baker, the series follows the wondrous adventures of Desmondo Ray, a peculiar man-child who seeks true love in a world he has difficulty fitting into. Based on the short film The Video Dating Tape of Desmondo Ray which was official selection for SxSW 2014 and is an opening night film at St Kilda Film Festival 2014.\n",
      "\n",
      " \n",
      "- See more at: http://www.screenaustralia.gov.au/news_and_events/2014/mr_140530_approvals.aspx#sthash.6E0JZXmf.dpuf\n",
      "\n",
      "\n",
      "Live Coding\n",
      "\n",
      "\n",
      "\n",
      "\n",
      "Funny\n",
      "\n",
      "No one knows anything\n",
      "\n",
      "Who Cares - NBC President Herb Schlosser\n",
      "\n",
      "http://edition.cnn.com/2013/05/03/tech/mobile/google-glass-dorky/\n",
      "\n",
      "Christopher Nolan / Inception / The Dark Knight Rises\n",
      "\n",
      "http://nofilmschool.com/2014/08/christopher-nolan-low-budget-diy-filmmaking-vice-criterion-following\n"
     ]
    },
    {
     "cell_type": "markdown",
     "metadata": {
      "slideshow": {
       "slide_type": "slide"
      }
     },
     "source": [
      "Terminology\n",
      "============"
     ]
    },
    {
     "cell_type": "markdown",
     "metadata": {
      "slideshow": {
       "slide_type": "fragment"
      }
     },
     "source": [
      "* Multiplatform"
     ]
    },
    {
     "cell_type": "markdown",
     "metadata": {
      "slideshow": {
       "slide_type": "fragment"
      }
     },
     "source": [
      "* Crossmedia"
     ]
    },
    {
     "cell_type": "markdown",
     "metadata": {
      "slideshow": {
       "slide_type": "fragment"
      }
     },
     "source": [
      "* Transmedia"
     ]
    },
    {
     "cell_type": "markdown",
     "metadata": {
      "slideshow": {
       "slide_type": "fragment"
      }
     },
     "source": [
      "* Film Extension"
     ]
    },
    {
     "cell_type": "markdown",
     "metadata": {
      "slideshow": {
       "slide_type": "slide"
      }
     },
     "source": [
      "Maze Runner\n",
      "===========\n",
      "Barco Escape\n",
      "http://www.slashfilm.com/barco-escape-review-maze-runner/\n",
      "\n"
     ]
    },
    {
     "cell_type": "code",
     "collapsed": false,
     "input": [
      "from IPython.display import YouTubeVideo\n",
      "# a talk about IPython at Sage Days at U. Washington, Seattle.\n",
      "# Video credit: William Stein.\n",
      "YouTubeVideo('Hqbn-7kJGj0')"
     ],
     "language": "python",
     "metadata": {
      "slideshow": {
       "slide_type": "fragment"
      }
     },
     "outputs": [
      {
       "html": [
        "\n",
        "        <iframe\n",
        "            width=\"400\"\n",
        "            height=300\"\n",
        "            src=\"https://www.youtube.com/embed/Hqbn-7kJGj0\"\n",
        "            frameborder=\"0\"\n",
        "            allowfullscreen\n",
        "        ></iframe>\n",
        "        "
       ],
       "metadata": {},
       "output_type": "pyout",
       "prompt_number": 2,
       "text": [
        "<IPython.lib.display.YouTubeVideo at 0x1052b8c10>"
       ]
      }
     ],
     "prompt_number": 2
    },
    {
     "cell_type": "markdown",
     "metadata": {},
     "source": [
      "These Final Hours\n",
      "==================\n",
      "\n",
      "http://thesefinalhours.com.au/experience/"
     ]
    },
    {
     "cell_type": "code",
     "collapsed": false,
     "input": [
      "from IPython.display import YouTubeVideo\n",
      "# a talk about IPython at Sage Days at U. Washington, Seattle.\n",
      "# Video credit: William Stein.\n",
      "YouTubeVideo('SJbDvX9UhfA')"
     ],
     "language": "python",
     "metadata": {
      "slideshow": {
       "slide_type": "fragment"
      }
     },
     "outputs": [
      {
       "html": [
        "\n",
        "        <iframe\n",
        "            width=\"400\"\n",
        "            height=300\"\n",
        "            src=\"https://www.youtube.com/embed/SJbDvX9UhfA\"\n",
        "            frameborder=\"0\"\n",
        "            allowfullscreen\n",
        "        ></iframe>\n",
        "        "
       ],
       "metadata": {},
       "output_type": "pyout",
       "prompt_number": 3,
       "text": [
        "<IPython.lib.display.YouTubeVideo at 0x1052ea3d0>"
       ]
      }
     ],
     "prompt_number": 3
    },
    {
     "cell_type": "markdown",
     "metadata": {
      "slideshow": {
       "slide_type": "slide"
      }
     },
     "source": [
      "Sherlock Holmes: The Network\n",
      "==============================\n",
      "\n",
      "Puzzle Game\n",
      "\n",
      "http://www.sherlockthenetwork.com/"
     ]
    },
    {
     "cell_type": "code",
     "collapsed": false,
     "input": [
      "from IPython.display import YouTubeVideo\n",
      "# a talk about IPython at Sage Days at U. Washington, Seattle.\n",
      "# Video credit: William Stein.\n",
      "YouTubeVideo('xoX1RSpFQTI')"
     ],
     "language": "python",
     "metadata": {
      "slideshow": {
       "slide_type": "fragment"
      }
     },
     "outputs": [
      {
       "html": [
        "\n",
        "        <iframe\n",
        "            width=\"400\"\n",
        "            height=300\"\n",
        "            src=\"https://www.youtube.com/embed/xoX1RSpFQTI\"\n",
        "            frameborder=\"0\"\n",
        "            allowfullscreen\n",
        "        ></iframe>\n",
        "        "
       ],
       "metadata": {},
       "output_type": "pyout",
       "prompt_number": 4,
       "text": [
        "<IPython.lib.display.YouTubeVideo at 0x1052ea310>"
       ]
      }
     ],
     "prompt_number": 4
    },
    {
     "cell_type": "markdown",
     "metadata": {
      "slideshow": {
       "slide_type": "slide"
      }
     },
     "source": [
      "Christopher Nolan\n",
      "==================\n",
      "\n",
      "Augmented Soundtrack\n",
      "\n",
      "http://nofilmschool.com/2014/08/christopher-nolan-low-budget-diy-filmmaking-vice-criterion-following\n",
      "    \n",
      "* Memento DVD\n",
      "* Inception The App\n",
      "* The Dark Knight Rises Z+  \n",
      "http://darkknightrises.rjdj.me/"
     ]
    },
    {
     "cell_type": "code",
     "collapsed": false,
     "input": [
      "from IPython.display import YouTubeVideo\n",
      "# a talk about IPython at Sage Days at U. Washington, Seattle.\n",
      "# Video credit: William Stein.\n",
      "YouTubeVideo('Kgh63r-1Cd8')"
     ],
     "language": "python",
     "metadata": {
      "slideshow": {
       "slide_type": "fragment"
      }
     },
     "outputs": []
    },
    {
     "cell_type": "markdown",
     "metadata": {
      "slideshow": {
       "slide_type": "slide"
      }
     },
     "source": [
      "Formats\n",
      "=========\n",
      "* TV series\n",
      "* TV one-off programme\n",
      "* Feature film\n",
      "* Short Film\n",
      "* Display advertising\n",
      "* TVC\n",
      "* Game console title\n",
      "* Windows/Mac/Linux app\n",
      "* Phone app\n",
      "* Tablet app\n",
      "* Dome theatre title\n",
      "* HMD title"
     ]
    },
    {
     "cell_type": "markdown",
     "metadata": {
      "slideshow": {
       "slide_type": "slide"
      }
     },
     "source": [
      "Resources\n",
      "==========\n",
      "\n",
      "* Google Apps\n",
      "* Scrivener\n",
      "* Amazon Storyteller\n",
      "* SketchUp\n",
      "* Celtix\n",
      "* Medium"
     ]
    },
    {
     "cell_type": "markdown",
     "metadata": {
      "slideshow": {
       "slide_type": "slide"
      }
     },
     "source": [
      "Digital Networks\n",
      "=================\n",
      "\n",
      "* Story Code\n",
      "* AIMIA\n",
      "* <a href=\"http://is.gd/adgdigital\">adg-digital</a> mailing list\n"
     ]
    },
    {
     "cell_type": "markdown",
     "metadata": {},
     "source": [
      "* Tribeca Film Institute\n",
      "* Sundance Institute\n",
      "* Film Board of Canada\n",
      "* Power To the Pixel\n",
      " * <a href=\"http://thepixelreport.org/\">The Pixel Report</a>\n",
      "* <a href=\"http://xmedialab.com\">XMediaLab</a>   \n"
     ]
    },
    {
     "cell_type": "markdown",
     "metadata": {
      "slideshow": {
       "slide_type": "slide"
      }
     },
     "source": [
      "Screen Australia\n",
      "------------------\n",
      "* http://www.screenaustralia.gov.au/research/statistics/interactive.aspx\n",
      "* http://www.screenaustralia.gov.au/news_and_events/2014/mr_140530_approvals.aspx\n",
      "* http://www.screenaustralia.gov.au/marketing/reports.aspx"
     ]
    },
    {
     "cell_type": "markdown",
     "metadata": {
      "slideshow": {
       "slide_type": "slide"
      }
     },
     "source": [
      "Experimental\n",
      "=============\n",
      "* Live Coding\n",
      "* Participatory Theatre\n",
      "* Cinema Games\n",
      "* Maker Movement\n",
      "* Media Art"
     ]
    },
    {
     "cell_type": "markdown",
     "metadata": {
      "slideshow": {
       "slide_type": "slide"
      }
     },
     "source": [
      "Experience\n",
      "============\n",
      "\n",
      "* Social\n",
      "* Second Screen\n",
      "* Installation\n",
      "* Participatory\n",
      "* Remixable\n",
      "* Game\n",
      "* Augmented Reality\n",
      "* Virtual Reality\n",
      "* Live Event"
     ]
    },
    {
     "cell_type": "markdown",
     "metadata": {
      "slideshow": {
       "slide_type": "slide"
      }
     },
     "source": [
      "Further Reading\n",
      "=================\n",
      "\n",
      "Medium\n",
      "--------\n",
      "\n",
      "https://medium.com/a-brief-history-of-attention  \n",
      "https://medium.com/purposeful-storytelling-play  \n",
      "\n",
      "https://medium.com/@rianvdm/how-to-avoid-building-products-that-fail-5ce499fff3a  \n",
      "http://www.hiscox.co.uk/business-blog/features/school-hard-knocks-skill-knowing-walk-away-business/  "
     ]
    },
    {
     "cell_type": "markdown",
     "metadata": {
      "slideshow": {
       "slide_type": "slide"
      }
     },
     "source": [
      "Thanks\n",
      "=======\n",
      "\n",
      "Workshop notes  \n",
      "http://slideviewer.herokuapp.com/github/michela/nb/blob/master/digitalVisionsAdelaide.ipynb\n",
      "\n",
      "@michela  \n",
      "http://modprods.com\n",
      "\n",
      "adg-digital  \n",
      "http://is.gd/adgdigital"
     ]
    }
   ],
   "metadata": {}
  }
 ]
}